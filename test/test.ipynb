{
 "cells": [
  {
   "cell_type": "markdown",
   "metadata": {},
   "source": [
    "## TEST Code for running and evaluating Steadiness / Cohesiveness and other metrics"
   ]
  },
  {
   "cell_type": "markdown",
   "metadata": {},
   "source": [
    "#### Import packages & set dataset path"
   ]
  },
  {
   "cell_type": "code",
   "execution_count": 2,
   "metadata": {},
   "outputs": [],
   "source": [
    "from helper import *\n",
    "import sys\n",
    "import importlib\n",
    "import numpy as np\n",
    "\n",
    "## Import Metrics\n",
    "sys.path.append(\"/home/hj/vis2021_snc/metrics4mdp/metrics4mdp\")\n",
    "from provider import MDPMetricProvider\n",
    "\n",
    "## Import SNC\n",
    "sys.path.append(\"/home/hj/vis2021_snc/steadiness_cohesiveness\")\n",
    "import snc as sc\n",
    "\n",
    "\n",
    "\n",
    "\n",
    "PATH_TO_DATASET = \"../../dataset-generator/dataset/\""
   ]
  },
  {
   "cell_type": "markdown",
   "metadata": {},
   "source": [
    "### Spheres TEST"
   ]
  },
  {
   "cell_type": "code",
   "execution_count": null,
   "metadata": {},
   "outputs": [],
   "source": [
    "import time\n",
    "min_dist = [0.0, 0.05, 0.1, 0.15, 0.2, 0.25, 0.3, 0.35, 0.4, 0.45, 0.5]\n",
    "n_neighbors = [3]\n",
    "klist=[40, 45, 50, 55, 60, 65, 70]\n",
    "\n",
    "\n",
    "## reload SNC for the testing\n",
    "importlib.reload(sc)\n",
    "SNC = sc.SNC\n",
    "\n",
    "\n",
    "def test_umap_dataset_sc(dataset,sample_rate, min_dist, n_neighbros, klist):\n",
    "    for k in klist:\n",
    "        steadiness_result = {}\n",
    "        cohesiveness_result = {}\n",
    "        for md in min_dist:\n",
    "            s_temp_result = {}\n",
    "            c_temp_result = {}\n",
    "            for nn in n_neighbors:\n",
    "                mnist_umap_path = make_path(PATH_TO_DATASET, dataset, \"umap\", sample_rate, [md, nn])\n",
    "                emb_data, raw_data, label_data = get_data(mnist_umap_path)\n",
    "\n",
    "                raw_data = np.array(raw_data)\n",
    "                emb_data = np.array(emb_data)\n",
    "                label_data = np.array(label_data)\n",
    "\n",
    "                parameter = {\n",
    "                    \"k\": k\n",
    "                }\n",
    "\n",
    "                start = time.time()\n",
    "                snc = SNC(raw_data, emb_data, iteration=300, cluster_parameter = parameter)\n",
    "                snc.fit()\n",
    "                s_temp_result[nn] = snc.steadiness()\n",
    "                c_temp_result[nn] = snc.cohesiveness()\n",
    "                print(md,nn,\"finished\")\n",
    "                print(s_temp_result[nn], c_temp_result[nn])\n",
    "            steadiness_result[md] = s_temp_result\n",
    "            cohesiveness_result[md] = c_temp_result\n",
    "        data = {\n",
    "            \"steadiness\": steadiness_result,\n",
    "            \"cohesivenss\": cohesiveness_result\n",
    "        }\n",
    "        print(\"finished k =\",k)\n",
    "        import json\n",
    "        with open(\"./\" + dataset + \"_\" + str(sample_rate) + \"_\" + str(k) + \"_result.json\", \"w\") as outfile:\n",
    "            json.dump(data, outfile)\n",
    "            \n",
    "# test_dataset_sc(\"spheres\", 2, min_dist, n_neighbors, klist)"
   ]
  },
  {
   "cell_type": "markdown",
   "metadata": {},
   "source": [
    "### Mammoth TEST"
   ]
  },
  {
   "cell_type": "code",
   "execution_count": null,
   "metadata": {},
   "outputs": [],
   "source": [
    "import time\n",
    "min_dist = [0.0]\n",
    "n_neighbors = [3, 4, 5, 6, 7, 8, 9, 10, 11, 12, 13, 14, 15, 16, 17, 18, 19, 20]\n",
    "klist=[40, 45, 50, 55, 60, 65, 70]\n",
    "\n",
    "print(\"START!!\")\n",
    "test_umap_dataset_sc(\"mammoth\", 2, min_dist, n_neighbors, klist)"
   ]
  },
  {
   "cell_type": "markdown",
   "metadata": {},
   "source": [
    "### PCA TEST"
   ]
  },
  {
   "cell_type": "code",
   "execution_count": 4,
   "metadata": {},
   "outputs": [
    {
     "name": "stdout",
     "output_type": "stream",
     "text": [
      "STARTED cifar10\n",
      "0 finished\n",
      "0.6646217846059912 0.535000340229487\n",
      "1 finished\n",
      "0.6272607013723536 0.5260870488414484\n",
      "2 finished\n",
      "0.557830184893018 0.4989180085028678\n",
      "3 finished\n",
      "0.5429513179819592 0.495312181731437\n",
      "4 finished\n",
      "0.5240166718391666 0.4523062546088732\n",
      "5 finished\n",
      "0.5110388566605684 0.45216736222067855\n",
      "6 finished\n",
      "0.5197272859750475 0.4550161463251864\n",
      "7 finished\n",
      "0.49834632282400193 0.44252180955697407\n",
      "8 finished\n",
      "0.5060020469725393 0.43979325075817177\n",
      "9 finished\n",
      "0.4953204352436402 0.44877395293596045\n",
      "10 finished\n",
      "0.5037137122947999 0.44508942603895685\n",
      "11 finished\n",
      "0.48779719153287615 0.434075426332747\n",
      "12 finished\n",
      "0.49096251380128764 0.4748891798233681\n",
      "13 finished\n",
      "0.5041213933189252 0.44822187317897866\n",
      "14 finished\n",
      "0.48662191431817925 0.4548107848030193\n",
      "15 finished\n",
      "0.483049442071643 0.454739012007356\n",
      "finished k = 40\n"
     ]
    }
   ],
   "source": [
    "datasets = [\"coil20\"]\n",
    "datasets = [ \"cifar10\"]\n",
    "sample_rate = 1\n",
    "n_components = 50\n",
    "\n",
    "importlib.reload(sc)\n",
    "SNC = sc.SNC\n",
    "\n",
    "nc_list = [0, 1, 2, 3, 4, 5, 6, 7, 8, 9, 10, 11, 12, 13, 14, 15]\n",
    "# k_list = [40, 45, 50, 55, 60]\n",
    "k_list = [40]\n",
    "# k_list = [50]\n",
    "\n",
    "for dataset in datasets:\n",
    "\n",
    "    mnist_pca_path = make_path(PATH_TO_DATASET, dataset, \"pca\", sample_rate, [n_components])\n",
    "    emb_data, raw_data, label_data = get_data(mnist_pca_path)\n",
    "\n",
    "    emb_data = np.array(emb_data)\n",
    "    print(\"STARTED\", dataset)\n",
    "    for k in k_list:\n",
    "        steadiness_result = {}\n",
    "        cohesiveness_result = {}\n",
    "        for nc in nc_list:\n",
    "            current_emb_data = emb_data[:, nc:(nc+2)]\n",
    "\n",
    "            parameter = {\n",
    "                \"k\": k\n",
    "            }\n",
    "            snc = SNC(raw_data, current_emb_data, iteration=40, cluster_parameter = parameter)\n",
    "            snc.fit()\n",
    "            s_temp_result = snc.steadiness()\n",
    "            c_temp_result = snc.cohesiveness()\n",
    "            print(nc,\"finished\")\n",
    "            print(s_temp_result, c_temp_result)\n",
    "            steadiness_result[nc] = s_temp_result\n",
    "            cohesiveness_result[nc] = c_temp_result\n",
    "\n",
    "        data = {\n",
    "            \"steadiness\": steadiness_result,\n",
    "            \"cohesivenss\": cohesiveness_result\n",
    "        }\n",
    "        print(\"finished k =\",k)\n",
    "        import json\n",
    "        with open(\"./\" + dataset + \"_\" + str(sample_rate) + \"_\" + str(k) + \"_result.json\", \"w\") as outfile:\n",
    "            json.dump(data, outfile)\n"
   ]
  },
  {
   "cell_type": "code",
   "execution_count": null,
   "metadata": {},
   "outputs": [],
   "source": []
  },
  {
   "cell_type": "code",
   "execution_count": null,
   "metadata": {},
   "outputs": [],
   "source": []
  }
 ],
 "metadata": {
  "kernelspec": {
   "display_name": "Python 3",
   "language": "python",
   "name": "python3"
  },
  "language_info": {
   "codemirror_mode": {
    "name": "ipython",
    "version": 3
   },
   "file_extension": ".py",
   "mimetype": "text/x-python",
   "name": "python",
   "nbconvert_exporter": "python",
   "pygments_lexer": "ipython3",
   "version": "3.8.5"
  }
 },
 "nbformat": 4,
 "nbformat_minor": 4
}
