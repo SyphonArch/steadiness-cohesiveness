{
 "cells": [
  {
   "cell_type": "markdown",
   "metadata": {},
   "source": [
    "## TEST Code for running and evaluating Steadiness / Cohesiveness and other metrics"
   ]
  },
  {
   "cell_type": "markdown",
   "metadata": {},
   "source": [
    "#### Import packages & set dataset path"
   ]
  },
  {
   "cell_type": "code",
   "execution_count": 1,
   "metadata": {},
   "outputs": [],
   "source": [
    "from helper import *\n",
    "import sys\n",
    "import importlib\n",
    "import numpy as np\n",
    "\n",
    "## Import Metrics\n",
    "sys.path.append(\"/home/hj/vis2021_snc/metrics4mdp/metrics4mdp\")\n",
    "from provider import MDPMetricProvider\n",
    "\n",
    "## Import SNC\n",
    "sys.path.append(\"/home/hj/vis2021_snc/steadiness_cohesiveness\")\n",
    "import snc as sc\n",
    "\n",
    "\n",
    "\n",
    "\n",
    "PATH_TO_DATASET = \"../../dataset-generator/dataset/\""
   ]
  },
  {
   "cell_type": "markdown",
   "metadata": {},
   "source": [
    "#### Pilot Dataset Load"
   ]
  },
  {
   "cell_type": "code",
   "execution_count": 2,
   "metadata": {},
   "outputs": [
    {
     "name": "stdout",
     "output_type": "stream",
     "text": [
      "[[14.0834322   4.46289539]\n",
      " [ 8.24845791  0.88252968]\n",
      " [12.69062042  1.50016272]\n",
      " [-0.71390963  4.22037649]]\n",
      "10000\n"
     ]
    }
   ],
   "source": [
    "mnist_umap_path = make_path(PATH_TO_DATASET, \"mnist\", \"umap\", 1, [0.5, 10])\n",
    "emb_data, raw_data, label_data = get_data(mnist_umap_path)\n",
    "\n",
    "raw_data = np.array(raw_data)\n",
    "emb_data = np.array(emb_data)\n",
    "label_data = np.array(label_data)\n",
    "\n",
    "\n",
    "print(emb_data[:4])\n",
    "print(len(emb_data))"
   ]
  },
  {
   "cell_type": "markdown",
   "metadata": {},
   "source": [
    "### Spheres TEST"
   ]
  },
  {
   "cell_type": "code",
   "execution_count": null,
   "metadata": {},
   "outputs": [],
   "source": [
    "import time\n",
    "min_dist = [0.0, 0.05, 0.1, 0.15, 0.2, 0.25, 0.3, 0.35, 0.4, 0.45, 0.5]\n",
    "n_neighbors = [3]\n",
    "\n",
    "# min_dist = [0.0, 0.1]\n",
    "# n_neighbors = [3, 10]\n",
    "\n",
    "\n",
    "## reload SNC for the testing\n",
    "importlib.reload(sc)\n",
    "SNC = sc.SNC\n",
    "\n",
    "print(\"TEST START\")\n",
    "\n",
    "klist=[40, 45, 50, 55, 60, 65, 70]\n",
    "for k in klist:\n",
    "    steadiness_result = {}\n",
    "    cohesiveness_result = {}\n",
    "    for md in min_dist:\n",
    "        s_temp_result = {}\n",
    "        c_temp_result = {}\n",
    "        for nn in n_neighbors:\n",
    "            mnist_umap_path = make_path(PATH_TO_DATASET, \"spheres\", \"umap\", 2, [md, nn])\n",
    "            emb_data, raw_data, label_data = get_data(mnist_umap_path)\n",
    "\n",
    "            raw_data = np.array(raw_data)\n",
    "            emb_data = np.array(emb_data)\n",
    "            label_data = np.array(label_data)\n",
    "\n",
    "            parameter = {\n",
    "                \"k\": k\n",
    "            }\n",
    "\n",
    "            start = time.time()\n",
    "            snc = SNC(raw_data, emb_data, iteration=300, cluster_parameter = parameter)\n",
    "            snc.fit()\n",
    "            s_temp_result[nn] = snc.steadiness()\n",
    "            c_temp_result[nn] = snc.cohesiveness()\n",
    "            print(md,nn,\"finished\")\n",
    "            print(s_temp_result[nn], c_temp_result[nn])\n",
    "        steadiness_result[md] = s_temp_result\n",
    "        cohesiveness_result[md] = c_temp_result\n",
    "    data = {\n",
    "        \"steadiness\": steadiness_result,\n",
    "        \"cohesivenss\": cohesiveness_result\n",
    "    }\n",
    "    import json\n",
    "    with open(\"./spheres_2_\" + str(k) + \"_result.json\", \"w\") as outfile:\n",
    "        json.dump(data, outfile)"
   ]
  }
 ],
 "metadata": {
  "kernelspec": {
   "display_name": "Python 3",
   "language": "python",
   "name": "python3"
  },
  "language_info": {
   "codemirror_mode": {
    "name": "ipython",
    "version": 3
   },
   "file_extension": ".py",
   "mimetype": "text/x-python",
   "name": "python",
   "nbconvert_exporter": "python",
   "pygments_lexer": "ipython3",
   "version": "3.8.5"
  }
 },
 "nbformat": 4,
 "nbformat_minor": 4
}
