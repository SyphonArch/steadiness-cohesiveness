{
 "cells": [
  {
   "cell_type": "markdown",
   "metadata": {},
   "source": [
    "## TEST Code for running and evaluating Steadiness / Cohesiveness and other metrics"
   ]
  },
  {
   "cell_type": "markdown",
   "metadata": {},
   "source": [
    "#### Import packages & set dataset path"
   ]
  },
  {
   "cell_type": "code",
   "execution_count": 1,
   "metadata": {},
   "outputs": [],
   "source": [
    "from helper import *\n",
    "import sys\n",
    "import importlib\n",
    "import numpy as np\n",
    "\n",
    "## Import Metrics\n",
    "sys.path.append(\"/home/hj/vis2021_snc/metrics4mdp/metrics4mdp\")\n",
    "from provider import MDPMetricProvider\n",
    "\n",
    "## Import SNC\n",
    "sys.path.append(\"/home/hj/vis2021_snc/steadiness_cohesiveness\")\n",
    "import snc as sc\n",
    "\n",
    "\n",
    "\n",
    "\n",
    "\n",
    "PATH_TO_DATASET = \"../../dataset-generator/dataset/\""
   ]
  },
  {
   "cell_type": "markdown",
   "metadata": {},
   "source": [
    "#### Pilot Dataset Load"
   ]
  },
  {
   "cell_type": "code",
   "execution_count": 2,
   "metadata": {},
   "outputs": [
    {
     "name": "stdout",
     "output_type": "stream",
     "text": [
      "[[14.0834322   4.46289539]\n",
      " [ 8.24845791  0.88252968]\n",
      " [12.69062042  1.50016272]\n",
      " [-0.71390963  4.22037649]]\n",
      "10000\n"
     ]
    }
   ],
   "source": [
    "mnist_umap_path = make_path(PATH_TO_DATASET, \"mnist\", \"umap\", 1, [0.5, 10])\n",
    "emb_data, raw_data, label_data = get_data(mnist_umap_path)\n",
    "\n",
    "raw_data = np.array(raw_data)\n",
    "emb_data = np.array(emb_data)\n",
    "label_data = np.array(label_data)\n",
    "\n",
    "\n",
    "print(emb_data[:4])\n",
    "print(len(emb_data))"
   ]
  },
  {
   "cell_type": "markdown",
   "metadata": {},
   "source": [
    "#### Pilot Local Metrics Usage"
   ]
  },
  {
   "cell_type": "code",
   "execution_count": 3,
   "metadata": {},
   "outputs": [],
   "source": [
    "# mlist = [\"Sammon\", \"DTM\", \"DTM_KL1\", \"Trustworthiness\", \"Continuity\", \"MRRE_XZ\", \"MRRE_ZX\"]\n",
    "# metric_provider = MDPMetricProvider(raw_data, emb_data, mlist, 7) \n",
    "# result = metric_provider.run()\n",
    "# print(result)"
   ]
  },
  {
   "cell_type": "code",
   "execution_count": 4,
   "metadata": {},
   "outputs": [
    {
     "name": "stdout",
     "output_type": "stream",
     "text": [
      "10.305732250213623\n"
     ]
    }
   ],
   "source": [
    "import time\n",
    "\n",
    "## reload SNC for the testing\n",
    "importlib.reload(sc)\n",
    "SNC = sc.SNC\n",
    "\n",
    "parameter = {\n",
    "    \"k\": 50\n",
    "}\n",
    "\n",
    "\n",
    "start = time.time()\n",
    "snc = SNC(raw_data, emb_data, iteration=500, cluster_parameter = parameter)\n",
    "snc.fit()\n",
    "\n",
    "print(time.time() - start)\n"
   ]
  },
  {
   "cell_type": "code",
   "execution_count": null,
   "metadata": {},
   "outputs": [
    {
     "name": "stdout",
     "output_type": "stream",
     "text": [
      "0.7838738737408177\n",
      "116.24018836021423\n",
      "0.7832085855233303\n",
      "113.46308732032776\n"
     ]
    }
   ],
   "source": [
    "for _ in range(5):\n",
    "    start = time.time()\n",
    "    result = snc.steadiness()\n",
    "    print(result)\n",
    "    print(time.time() - start)\n",
    "    \n",
    "# result2 = snc.cohesiveness()\n",
    "# print(len(result))\n",
    "# print(label_data[result])"
   ]
  },
  {
   "cell_type": "code",
   "execution_count": null,
   "metadata": {},
   "outputs": [],
   "source": []
  },
  {
   "cell_type": "code",
   "execution_count": null,
   "metadata": {},
   "outputs": [],
   "source": []
  },
  {
   "cell_type": "code",
   "execution_count": null,
   "metadata": {},
   "outputs": [],
   "source": []
  },
  {
   "cell_type": "code",
   "execution_count": null,
   "metadata": {},
   "outputs": [],
   "source": []
  },
  {
   "cell_type": "code",
   "execution_count": null,
   "metadata": {},
   "outputs": [],
   "source": []
  },
  {
   "cell_type": "code",
   "execution_count": null,
   "metadata": {},
   "outputs": [],
   "source": []
  }
 ],
 "metadata": {
  "kernelspec": {
   "display_name": "Python 3",
   "language": "python",
   "name": "python3"
  },
  "language_info": {
   "codemirror_mode": {
    "name": "ipython",
    "version": 3
   },
   "file_extension": ".py",
   "mimetype": "text/x-python",
   "name": "python",
   "nbconvert_exporter": "python",
   "pygments_lexer": "ipython3",
   "version": "3.8.5"
  }
 },
 "nbformat": 4,
 "nbformat_minor": 4
}
