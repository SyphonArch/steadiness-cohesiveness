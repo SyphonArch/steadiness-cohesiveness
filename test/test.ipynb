{
 "cells": [
  {
   "cell_type": "markdown",
   "metadata": {},
   "source": [
    "## TEST Code for running and evaluating Steadiness / Cohesiveness and other metrics"
   ]
  },
  {
   "cell_type": "markdown",
   "metadata": {},
   "source": [
    "#### Import packages & set dataset path"
   ]
  },
  {
   "cell_type": "code",
   "execution_count": 2,
   "metadata": {},
   "outputs": [],
   "source": [
    "from helper import *\n",
    "import sys\n",
    "import importlib\n",
    "import numpy as np\n",
    "\n",
    "## Import Metrics\n",
    "sys.path.append(\"/home/hj/vis2021_snc/metrics4mdp/metrics4mdp\")\n",
    "from provider import MDPMetricProvider\n",
    "\n",
    "## Import SNC\n",
    "sys.path.append(\"/home/hj/vis2021_snc/steadiness_cohesiveness\")\n",
    "import snc as sc\n",
    "\n",
    "\n",
    "\n",
    "\n",
    "\n",
    "PATH_TO_DATASET = \"../../dataset-generator/dataset/\""
   ]
  },
  {
   "cell_type": "markdown",
   "metadata": {},
   "source": [
    "#### Pilot Dataset Load"
   ]
  },
  {
   "cell_type": "code",
   "execution_count": 3,
   "metadata": {},
   "outputs": [
    {
     "name": "stdout",
     "output_type": "stream",
     "text": [
      "[[11.29208279  5.92692423]\n",
      " [11.54898739  9.0832119 ]\n",
      " [11.57514477  0.06624129]\n",
      " [10.87285995  1.90799904]]\n",
      "5000\n"
     ]
    }
   ],
   "source": [
    "mnist_umap_path = make_path(PATH_TO_DATASET, \"mnist\", \"umap\", 2, [0.5, 10])\n",
    "emb_data, raw_data, label_data = get_data(mnist_umap_path)\n",
    "\n",
    "raw_data = np.array(raw_data)\n",
    "emb_data = np.array(emb_data)\n",
    "label_data = np.array(label_data)\n",
    "\n",
    "\n",
    "print(emb_data[:4])\n",
    "print(len(emb_data))"
   ]
  },
  {
   "cell_type": "markdown",
   "metadata": {},
   "source": [
    "#### Pilot Local Metrics Usage"
   ]
  },
  {
   "cell_type": "code",
   "execution_count": 4,
   "metadata": {},
   "outputs": [
    {
     "name": "stdout",
     "output_type": "stream",
     "text": [
      "{'Sammon': 0.9943684648252391, 'DTM': 0.44247785, 'DTM_KL1': 0.0021266947, 'Trustworthiness': 0.9458756292414741, 'Continuity': 0.9777667611602668, 'MRRE_XZ': 0.9826267251497139, 'MRRE_ZX': 0.9450018779057936}\n"
     ]
    }
   ],
   "source": [
    "mlist = [\"Sammon\", \"DTM\", \"DTM_KL1\", \"Trustworthiness\", \"Continuity\", \"MRRE_XZ\", \"MRRE_ZX\"]\n",
    "metric_provider = MDPMetricProvider(raw_data, emb_data, mlist, 7) \n",
    "result = metric_provider.run()\n",
    "print(result)"
   ]
  },
  {
   "cell_type": "code",
   "execution_count": 8,
   "metadata": {},
   "outputs": [],
   "source": [
    "## reload SNC for the testing\n",
    "importlib.reload(sc)\n",
    "SNC = sc.SNC\n",
    "\n",
    "snc = SNC(raw_data, emb_data, iteration=300, k=5)\n",
    "snc.fit()"
   ]
  },
  {
   "cell_type": "code",
   "execution_count": null,
   "metadata": {},
   "outputs": [],
   "source": []
  },
  {
   "cell_type": "code",
   "execution_count": null,
   "metadata": {},
   "outputs": [],
   "source": []
  }
 ],
 "metadata": {
  "kernelspec": {
   "display_name": "Python 3",
   "language": "python",
   "name": "python3"
  },
  "language_info": {
   "codemirror_mode": {
    "name": "ipython",
    "version": 3
   },
   "file_extension": ".py",
   "mimetype": "text/x-python",
   "name": "python",
   "nbconvert_exporter": "python",
   "pygments_lexer": "ipython3",
   "version": "3.8.5"
  }
 },
 "nbformat": 4,
 "nbformat_minor": 4
}
