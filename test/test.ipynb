{
 "cells": [
  {
   "cell_type": "markdown",
   "metadata": {},
   "source": [
    "## TEST Code for running and evaluating Steadiness / Cohesiveness and other metrics"
   ]
  },
  {
   "cell_type": "markdown",
   "metadata": {},
   "source": [
    "#### Import packages & set dataset path"
   ]
  },
  {
   "cell_type": "code",
   "execution_count": 22,
   "metadata": {},
   "outputs": [],
   "source": [
    "from helper import *\n",
    "import sys\n",
    "import importlib\n",
    "import numpy as np\n",
    "\n",
    "## Import Metrics\n",
    "sys.path.append(\"/home/hj/vis2021_snc/metrics4mdp/metrics4mdp\")\n",
    "from provider import MDPMetricProvider\n",
    "\n",
    "## Import SNC\n",
    "sys.path.append(\"/home/hj/vis2021_snc/steadiness_cohesiveness\")\n",
    "import snc as sc\n",
    "\n",
    "\n",
    "\n",
    "\n",
    "\n",
    "PATH_TO_DATASET = \"../../dataset-generator/dataset/\""
   ]
  },
  {
   "cell_type": "markdown",
   "metadata": {},
   "source": [
    "#### Pilot Dataset Load"
   ]
  },
  {
   "cell_type": "code",
   "execution_count": 23,
   "metadata": {},
   "outputs": [
    {
     "name": "stdout",
     "output_type": "stream",
     "text": [
      "[[-3.49330807  5.04234171]\n",
      " [-1.5574857  -0.05618373]\n",
      " [ 4.86894512  3.87850976]\n",
      " [-1.87019753  2.78409791]]\n"
     ]
    }
   ],
   "source": [
    "mnist_umap_path = make_path(PATH_TO_DATASET, \"mnist\", \"umap\", 4, [0.5, 10])\n",
    "emb_data, raw_data, label_data = get_data(mnist_umap_path)\n",
    "\n",
    "raw_data = np.array(raw_data)\n",
    "emb_data = np.array(emb_data)\n",
    "label_data = np.array(label_data)\n",
    "\n",
    "\n",
    "print(emb_data[:4])"
   ]
  },
  {
   "cell_type": "markdown",
   "metadata": {},
   "source": [
    "#### Pilot Local Metrics Usage"
   ]
  },
  {
   "cell_type": "code",
   "execution_count": 24,
   "metadata": {},
   "outputs": [
    {
     "name": "stdout",
     "output_type": "stream",
     "text": [
      "{'Sammon': 0.994978622080915, 'DTM': 0.45324987, 'DTM_KL1': 0.002034952, 'Trustworthiness': 0.9435867761005567, 'Continuity': 0.9737871089938587, 'MRRE_XZ': 0.9795523391209287, 'MRRE_ZX': 0.9440351635881546}\n"
     ]
    }
   ],
   "source": [
    "mlist = [\"Sammon\", \"DTM\", \"DTM_KL1\", \"Trustworthiness\", \"Continuity\", \"MRRE_XZ\", \"MRRE_ZX\"]\n",
    "metric_provider = MDPMetricProvider(raw_data, emb_data, mlist, 7) \n",
    "result = metric_provider.run()\n",
    "print(result)"
   ]
  },
  {
   "cell_type": "code",
   "execution_count": 27,
   "metadata": {},
   "outputs": [
    {
     "data": {
      "text/plain": [
       "<snc.SNC at 0x7f7e832a4d60>"
      ]
     },
     "execution_count": 27,
     "metadata": {},
     "output_type": "execute_result"
    }
   ],
   "source": [
    "## reload SNC for the testing\n",
    "importlib.reload(sc)\n",
    "SNC = sc.SNC\n",
    "\n",
    "SNC(raw_data, emb_data, iteration=300, k=5)"
   ]
  },
  {
   "cell_type": "code",
   "execution_count": null,
   "metadata": {},
   "outputs": [],
   "source": []
  }
 ],
 "metadata": {
  "kernelspec": {
   "display_name": "Python 3",
   "language": "python",
   "name": "python3"
  },
  "language_info": {
   "codemirror_mode": {
    "name": "ipython",
    "version": 3
   },
   "file_extension": ".py",
   "mimetype": "text/x-python",
   "name": "python",
   "nbconvert_exporter": "python",
   "pygments_lexer": "ipython3",
   "version": "3.8.5"
  }
 },
 "nbformat": 4,
 "nbformat_minor": 4
}
